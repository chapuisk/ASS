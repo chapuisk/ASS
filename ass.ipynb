{
 "cells": [
  {
   "cell_type": "markdown",
   "metadata": {},
   "source": [
    "# Article Search and Scrap (ASS)\n",
    "\n",
    "ASS is a library to retrieve, organize and explore a corpus of scientific articles\n",
    "\n",
    "- Scrapping on a variety of sources like web-of-science, google scholar or science direct\n",
    "- NLP Based on BERT text encoding"
   ]
  },
  {
   "cell_type": "code",
   "execution_count": 10,
   "metadata": {},
   "outputs": [
    {
     "name": "stdout",
     "output_type": "stream",
     "text": [
      "frozenset()\n",
      "set()\n",
      "<PyASS.ass_abstractions.ASSCorpus object at 0x104e59730>\n",
      "There is 230 entries in the bib database\n"
     ]
    }
   ],
   "source": [
    "from PyASS import ass_abstractions as ass\n",
    "from PyASS import ass_constant as constant\n",
    "import os\n",
    "\n",
    "\n",
    "corp = ass.ASSCorpus()\n",
    "print(corp.corpus())\n",
    "\n",
    "corp.add_article(bibentry=\"@article{myarticle,title = {my first article},author = {me too}, keywords = {k1,k2}}\")\n",
    "print(str(corp))\n",
    "\n",
    "bib = open(\"PyASS/data/wos_fishgame.bib\")\n",
    "ass_bib = ass.ASSCorpus(**{constant.BIB_ENTRY: bib})\n",
    "print(\"There is \"+str(len(ass_bib.corpus()))+\" entries in the bib database\")"
   ]
  },
  {
   "cell_type": "code",
   "execution_count": null,
   "metadata": {},
   "outputs": [],
   "source": [
    "ass_bib.corpus()"
   ]
  }
 ],
 "metadata": {
  "kernelspec": {
   "display_name": "Python 3",
   "language": "python",
   "name": "python3"
  },
  "language_info": {
   "codemirror_mode": {
    "name": "ipython",
    "version": 3
   },
   "file_extension": ".py",
   "mimetype": "text/x-python",
   "name": "python",
   "nbconvert_exporter": "python",
   "pygments_lexer": "ipython3",
   "version": "3.8.5"
  }
 },
 "nbformat": 4,
 "nbformat_minor": 4
}
