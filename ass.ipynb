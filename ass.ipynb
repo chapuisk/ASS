{
 "cells": [
  {
   "cell_type": "markdown",
   "metadata": {},
   "source": [
    "# Article Search and Scrap (ASS)\n",
    "\n",
    "ASS is a library to retrieve, organize and explore a corpus of scientific articles\n",
    "\n",
    "- Scrapping on a variety of sources like web-of-science, google scholar or science direct\n",
    "- NLP Based on BERT text encoding"
   ]
  },
  {
   "cell_type": "code",
   "execution_count": 12,
   "metadata": {},
   "outputs": [
    {
     "name": "stdout",
     "output_type": "stream",
     "text": [
      "/Users/kevinchapuis/Development/Ass/ASS\n"
     ]
    },
    {
     "ename": "AttributeError",
     "evalue": "module 'PyASS' has no attribute 'ass_abstractions'",
     "output_type": "error",
     "traceback": [
      "\u001b[0;31m---------------------------------------------------------------------------\u001b[0m",
      "\u001b[0;31mAttributeError\u001b[0m                            Traceback (most recent call last)",
      "\u001b[0;32m<ipython-input-12-aed22b299b3d>\u001b[0m in \u001b[0;36m<module>\u001b[0;34m\u001b[0m\n\u001b[1;32m      4\u001b[0m \u001b[0mprint\u001b[0m\u001b[0;34m(\u001b[0m\u001b[0mos\u001b[0m\u001b[0;34m.\u001b[0m\u001b[0mgetcwd\u001b[0m\u001b[0;34m(\u001b[0m\u001b[0;34m)\u001b[0m\u001b[0;34m)\u001b[0m\u001b[0;34m\u001b[0m\u001b[0;34m\u001b[0m\u001b[0m\n\u001b[1;32m      5\u001b[0m \u001b[0;34m\u001b[0m\u001b[0m\n\u001b[0;32m----> 6\u001b[0;31m \u001b[0mcorp\u001b[0m \u001b[0;34m=\u001b[0m \u001b[0mPyASS\u001b[0m\u001b[0;34m.\u001b[0m\u001b[0mass_abstractions\u001b[0m\u001b[0;34m.\u001b[0m\u001b[0mASSCorpus\u001b[0m\u001b[0;34m(\u001b[0m\u001b[0;34m)\u001b[0m\u001b[0;34m\u001b[0m\u001b[0;34m\u001b[0m\u001b[0m\n\u001b[0m\u001b[1;32m      7\u001b[0m \u001b[0;31m#corp.add_article(\"@article{title:'my first article',author:'me too'}\")\u001b[0m\u001b[0;34m\u001b[0m\u001b[0;34m\u001b[0m\u001b[0;34m\u001b[0m\u001b[0m\n\u001b[1;32m      8\u001b[0m \u001b[0;34m\u001b[0m\u001b[0m\n",
      "\u001b[0;31mAttributeError\u001b[0m: module 'PyASS' has no attribute 'ass_abstractions'"
     ]
    }
   ],
   "source": [
    "import PyASS\n",
    "import os\n",
    "\n",
    "print(os.getcwd())\n",
    "\n",
    "corp = PyASS.ass_abstractions.ASSCorpus()\n",
    "#corp.add_article(\"@article{title:'my first article',author:'me too'}\")\n",
    "\n",
    "#print(corp)"
   ]
  },
  {
   "cell_type": "code",
   "execution_count": null,
   "metadata": {},
   "outputs": [],
   "source": []
  }
 ],
 "metadata": {
  "kernelspec": {
   "display_name": "Python 3",
   "language": "python",
   "name": "python3"
  },
  "language_info": {
   "codemirror_mode": {
    "name": "ipython",
    "version": 3
   },
   "file_extension": ".py",
   "mimetype": "text/x-python",
   "name": "python",
   "nbconvert_exporter": "python",
   "pygments_lexer": "ipython3",
   "version": "3.8.5"
  }
 },
 "nbformat": 4,
 "nbformat_minor": 4
}
