{
 "cells": [
  {
   "cell_type": "markdown",
   "metadata": {},
   "source": [
    "# Article Search and Scrap (ASS)\n",
    "\n",
    "ASS is a library to retrieve, organize and explore a corpus of scientific articles\n",
    "\n",
    "- Scrapping on a variety of sources like web-of-science, google scholar or science direct\n",
    "- NLP Based on BERT text encoding"
   ]
  },
  {
   "cell_type": "code",
   "execution_count": 7,
   "metadata": {},
   "outputs": [
    {
     "name": "stdout",
     "output_type": "stream",
     "text": [
      "frozenset()\n",
      "set()\n"
     ]
    },
    {
     "ename": "TypeError",
     "evalue": "__repr__ returned non-string (type NoneType)",
     "output_type": "error",
     "traceback": [
      "\u001b[0;31m---------------------------------------------------------------------------\u001b[0m",
      "\u001b[0;31mTypeError\u001b[0m                                 Traceback (most recent call last)",
      "\u001b[0;32m<ipython-input-7-14a01619539a>\u001b[0m in \u001b[0;36m<module>\u001b[0;34m\u001b[0m\n\u001b[1;32m      8\u001b[0m \u001b[0;34m\u001b[0m\u001b[0m\n\u001b[1;32m      9\u001b[0m \u001b[0mcorp\u001b[0m\u001b[0;34m.\u001b[0m\u001b[0madd_article\u001b[0m\u001b[0;34m(\u001b[0m\u001b[0mbibentry\u001b[0m\u001b[0;34m=\u001b[0m\u001b[0;34m\"@article{myarticle,title = {my first article},author = {me too}, keywords = {k1,k2}}\"\u001b[0m\u001b[0;34m)\u001b[0m\u001b[0;34m\u001b[0m\u001b[0;34m\u001b[0m\u001b[0m\n\u001b[0;32m---> 10\u001b[0;31m \u001b[0mprint\u001b[0m\u001b[0;34m(\u001b[0m\u001b[0mcorp\u001b[0m\u001b[0;34m.\u001b[0m\u001b[0mcorpus\u001b[0m\u001b[0;34m(\u001b[0m\u001b[0;34m)\u001b[0m\u001b[0;34m)\u001b[0m\u001b[0;34m\u001b[0m\u001b[0;34m\u001b[0m\u001b[0m\n\u001b[0m\u001b[1;32m     11\u001b[0m \u001b[0;34m\u001b[0m\u001b[0m\n\u001b[1;32m     12\u001b[0m \u001b[0mbib\u001b[0m \u001b[0;34m=\u001b[0m \u001b[0mopen\u001b[0m\u001b[0;34m(\u001b[0m\u001b[0;34m\"PyASS/data/ASS.bib\"\u001b[0m\u001b[0;34m)\u001b[0m\u001b[0;34m\u001b[0m\u001b[0;34m\u001b[0m\u001b[0m\n",
      "\u001b[0;31mTypeError\u001b[0m: __repr__ returned non-string (type NoneType)"
     ]
    }
   ],
   "source": [
    "from PyASS import ass_abstractions as ass\n",
    "from PyASS import ass_constant as constant\n",
    "import os\n",
    "\n",
    "\n",
    "corp = ass.ASSCorpus()\n",
    "print(corp.corpus())\n",
    "\n",
    "corp.add_article(bibentry=\"@article{myarticle,title = {my first article},author = {me too}, keywords = {k1,k2}}\")\n",
    "print(corp.corpus())\n",
    "\n",
    "bib = open(\"PyASS/data/ASS.bib\")\n",
    "ass_bib = ass.ASSCorpus(**{constant.BIB_ENTRY: bib})\n",
    "print(\"There is \"+str(len(ass_bib.corpus()))+\" entries in the bib database\")"
   ]
  },
  {
   "cell_type": "code",
   "execution_count": null,
   "metadata": {},
   "outputs": [],
   "source": []
  }
 ],
 "metadata": {
  "kernelspec": {
   "display_name": "Python 3",
   "language": "python",
   "name": "python3"
  },
  "language_info": {
   "codemirror_mode": {
    "name": "ipython",
    "version": 3
   },
   "file_extension": ".py",
   "mimetype": "text/x-python",
   "name": "python",
   "nbconvert_exporter": "python",
   "pygments_lexer": "ipython3",
   "version": "3.8.5"
  }
 },
 "nbformat": 4,
 "nbformat_minor": 4
}
